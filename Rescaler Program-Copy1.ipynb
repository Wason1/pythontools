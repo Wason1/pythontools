{
 "cells": [
  {
   "cell_type": "code",
   "execution_count": 8,
   "metadata": {
    "collapsed": false
   },
   "outputs": [],
   "source": [
    "# Source before converting to py3 https://mail.python.org/pipermail/tutor/2006-March/045694.html\n",
    "# Note: the original function is broken. It's fixed below"
   ]
  },
  {
   "cell_type": "markdown",
   "metadata": {},
   "source": [
    "# Syntax: \n",
    "# scale(list, min, max)\n",
    "\n",
    "#### list: the list you wish to rescale\n",
    "#### min: your min desired value after scaling\n",
    "#### max: your max desired value after scaling"
   ]
  },
  {
   "cell_type": "markdown",
   "metadata": {},
   "source": [
    "# The Function"
   ]
  },
  {
   "cell_type": "code",
   "execution_count": 2,
   "metadata": {
    "collapsed": false
   },
   "outputs": [],
   "source": [
    "def scale(OldList, NewMin, NewMax):\n",
    "    NewRange = float(NewMax - NewMin)\n",
    "    OldMin = min(OldList)\n",
    "    OldMax = max(OldList)\n",
    "    OldRange = float(OldMax - OldMin)\n",
    "    ScaleFactor = NewRange / OldRange\n",
    "    print ('\\nEquasion:  NewValue = ((OldValue - ' + str(OldMin) + ') x '\n",
    "+ str(ScaleFactor) + ') + ' + str(NewMin) + '\\n')\n",
    "    NewList = []\n",
    "    for OldValue in OldList:\n",
    "        NewValue = ((OldValue - OldMin) * ScaleFactor) + NewMin\n",
    "        NewList.append(NewValue)\n",
    "    return NewList"
   ]
  },
  {
   "cell_type": "markdown",
   "metadata": {},
   "source": [
    "# Example 1"
   ]
  },
  {
   "cell_type": "code",
   "execution_count": 3,
   "metadata": {
    "collapsed": true
   },
   "outputs": [],
   "source": [
    "x = [1, 2, 3, 2000]"
   ]
  },
  {
   "cell_type": "code",
   "execution_count": 4,
   "metadata": {
    "collapsed": false
   },
   "outputs": [
    {
     "name": "stdout",
     "output_type": "stream",
     "text": [
      "\n",
      "Equasion:  NewValue = ((OldValue - 1) x 0.05002501250625312) + 0\n",
      "\n"
     ]
    },
    {
     "data": {
      "text/plain": [
       "[0.0, 0.05002501250625312, 0.10005002501250625, 100.0]"
      ]
     },
     "execution_count": 4,
     "metadata": {},
     "output_type": "execute_result"
    }
   ],
   "source": [
    "scale(x, 0, 100)"
   ]
  },
  {
   "cell_type": "markdown",
   "metadata": {},
   "source": [
    "# Example 2"
   ]
  },
  {
   "cell_type": "code",
   "execution_count": 9,
   "metadata": {
    "collapsed": true
   },
   "outputs": [],
   "source": [
    "tp_values = [53.72727273,\n",
    "             50.55,\n",
    "             61.26086957,\n",
    "             52.7,\n",
    "             51.22727273,\n",
    "             59.13636364,\n",
    "             54.45454545,\n",
    "             56.90909091,\n",
    "             55.68181818,\n",
    "             57.14285714,\n",
    "             54.31818182,\n",
    "             53.77272727]"
   ]
  },
  {
   "cell_type": "code",
   "execution_count": 10,
   "metadata": {
    "collapsed": false
   },
   "outputs": [
    {
     "name": "stdout",
     "output_type": "stream",
     "text": [
      "\n",
      "Equasion:  NewValue = ((OldValue - 50.55) x 9.336310123698015) + 0\n",
      "\n"
     ]
    },
    {
     "data": {
      "text/plain": [
       "[29.66400355484868,\n",
       " 0.0,\n",
       " 100.0,\n",
       " 20.073066765950784,\n",
       " 6.323228245603644,\n",
       " 80.16495377788455,\n",
       " 36.45404721327402,\n",
       " 59.37044484054908,\n",
       " 47.91224602691155,\n",
       " 61.55295886027673,\n",
       " 35.18091407400083,\n",
       " 30.088381236818666]"
      ]
     },
     "execution_count": 10,
     "metadata": {},
     "output_type": "execute_result"
    }
   ],
   "source": [
    "scale(tp_values, 0, 100)"
   ]
  },
  {
   "cell_type": "code",
   "execution_count": null,
   "metadata": {
    "collapsed": true
   },
   "outputs": [],
   "source": []
  }
 ],
 "metadata": {
  "kernelspec": {
   "display_name": "Python 3",
   "language": "python",
   "name": "python3"
  },
  "language_info": {
   "codemirror_mode": {
    "name": "ipython",
    "version": 3
   },
   "file_extension": ".py",
   "mimetype": "text/x-python",
   "name": "python",
   "nbconvert_exporter": "python",
   "pygments_lexer": "ipython3",
   "version": "3.6.0"
  }
 },
 "nbformat": 4,
 "nbformat_minor": 2
}
